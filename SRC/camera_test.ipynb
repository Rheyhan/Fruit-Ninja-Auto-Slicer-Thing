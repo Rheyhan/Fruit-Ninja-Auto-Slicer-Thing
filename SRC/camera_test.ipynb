{
 "cells": [
  {
   "cell_type": "code",
   "execution_count": 2,
   "metadata": {},
   "outputs": [],
   "source": [
    "import cv2\n",
    "import pyautogui\n",
    "import numpy as np\n",
    "import pygetwindow as gw"
   ]
  },
  {
   "cell_type": "code",
   "execution_count": 5,
   "metadata": {},
   "outputs": [
    {
     "data": {
      "text/plain": [
       "['camera_test.ipynb - Fruit Ninja auto CV slicer - Visual Studio Code',\n",
       " 'Command Prompt',\n",
       " 'Seventeen - YouTube Music - Google Chrome',\n",
       " 'PopupHost',\n",
       " '! CV thing',\n",
       " '(10) How to use computer vision to play fruit ninja? - YouTube - Google Chrome',\n",
       " 'OmApSvcBroker',\n",
       " 'NVIDIA GeForce Overlay',\n",
       " 'Nahimic',\n",
       " 'Nahimic',\n",
       " 'Windows Input Experience',\n",
       " 'Program Manager']"
      ]
     },
     "execution_count": 5,
     "metadata": {},
     "output_type": "execute_result"
    }
   ],
   "source": [
    "[i for i in gw.getAllTitles() if len(i)>1]"
   ]
  },
  {
   "cell_type": "code",
   "execution_count": 38,
   "metadata": {},
   "outputs": [],
   "source": [
    "# Find the Chrome window\n",
    "chrome_window = gw.getWindowsWithTitle('Google Chrome')[0]  # Assuming Chrome window title is 'Google Chrome'\n",
    "\n",
    "# Get the position and size of the Chrome window\n",
    "left, top, width, height = chrome_window.left, chrome_window.top, chrome_window.width, chrome_window.height\n",
    "\n",
    "# Define the codec and create VideoWriter object\n",
    "fourcc = cv2.VideoWriter_fourcc(*'XVID')\n",
    "out = cv2.VideoWriter('chrome_screen_capture.avi', fourcc, 20.0, (width, height))\n",
    "\n",
    "while True:\n",
    "    # Capture screen of Chrome window\n",
    "    img = pyautogui.screenshot(region=(left, top, width, height))\n",
    "    # Convert the screenshot to a numpy array\n",
    "    frame = cv2.cvtColor(np.array(img), cv2.COLOR_RGB2BGR)\n",
    "    # Write the frame\n",
    "    out.write(frame)\n",
    "    # Display the frame\n",
    "    cv2.imshow('Chrome Screen', frame)\n",
    "    # Break the loop on 'q' key press\n",
    "    if cv2.waitKey(1) == ord('q'):\n",
    "        break\n",
    "\n",
    "# Release everything if job is finished\n",
    "out.release()\n",
    "cv2.destroyAllWindows()"
   ]
  },
  {
   "cell_type": "code",
   "execution_count": 2,
   "metadata": {},
   "outputs": [],
   "source": [
    "import cv2\n",
    "import pyautogui\n",
    "import numpy as np\n",
    "\n",
    "while True:\n",
    "    # Capture the screen\n",
    "    screenshot = pyautogui.screenshot()\n",
    "    frame = cv2.cvtColor(np.array(screenshot), cv2.COLOR_RGB2BGR)\n",
    "\n",
    "    # Display the captured screen\n",
    "    cv2.imshow(\"Screen\", frame)\n",
    "\n",
    "    # Press 'q' to quit\n",
    "    if cv2.waitKey(1) == ord(\"q\"):\n",
    "        break\n",
    "\n",
    "cv2.destroyAllWindows()"
   ]
  }
 ],
 "metadata": {
  "kernelspec": {
   "display_name": "Python 3",
   "language": "python",
   "name": "python3"
  },
  "language_info": {
   "codemirror_mode": {
    "name": "ipython",
    "version": 3
   },
   "file_extension": ".py",
   "mimetype": "text/x-python",
   "name": "python",
   "nbconvert_exporter": "python",
   "pygments_lexer": "ipython3",
   "version": "3.11.9"
  }
 },
 "nbformat": 4,
 "nbformat_minor": 2
}
